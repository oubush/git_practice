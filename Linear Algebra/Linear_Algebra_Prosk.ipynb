{
 "cells": [
  {
   "cell_type": "markdown",
   "metadata": {},
   "source": [
    "Проскуряков И.В. Сборник задач по линейной алгебре. СПб.: Лань, 2010."
   ]
  },
  {
   "cell_type": "code",
   "execution_count": 5,
   "metadata": {},
   "outputs": [],
   "source": [
    "import numpy as np\n",
    "from datetime import date"
   ]
  },
  {
   "cell_type": "code",
   "execution_count": 139,
   "metadata": {},
   "outputs": [],
   "source": [
    "all_problems = [i for i in range(1,123)]\n",
    "solved_Jupyter = [1, 2, 3, 4]\n",
    "solved_by_hand = []\n",
    "solved = solved_Jupyter + solved_by_hand\n",
    "problems_marked = ['\\u0336'.join(' ' + str(i)) if i in solved else str(i) for i in all_problems]"
   ]
  },
  {
   "cell_type": "code",
   "execution_count": 131,
   "metadata": {},
   "outputs": [
    {
     "name": "stdout",
     "output_type": "stream",
     "text": [
      " ̶1  ̶2  ̶3  ̶4 5 6 7 8 9 10 11 12 13 14 15 16 17 18 19 20 21 22 23 24 25 26 27 28 29 30 31 32 33 34 35 36 37 38 39 40 41 42 43 44 45 46 47 48 49 50 51 52 53 54 55 56 57 58 59 60 61 62 63 64 65 66 67 68 69 70 71 72 73 74 75 76 77 78 79 80 81 82 83 84 85 86 87 88 89 90 91 92 93 94 95 96 97 98 99 100 101 102 103 104 105 106 107 108 109 110 111 112 113 114 115 116 117 118 119 120 121 122\n"
     ]
    }
   ],
   "source": [
    "print(*problems_marked)"
   ]
  },
  {
   "cell_type": "code",
   "execution_count": 138,
   "metadata": {},
   "outputs": [
    {
     "name": "stdout",
     "output_type": "stream",
     "text": [
      "Решены в Jupyter:\n",
      "1 2 3 4\n"
     ]
    }
   ],
   "source": [
    "print('Решены в Jupyter:')\n",
    "print(*solved)"
   ]
  },
  {
   "cell_type": "code",
   "execution_count": 138,
   "metadata": {},
   "outputs": [
    {
     "name": "stdout",
     "output_type": "stream",
     "text": [
      "Решены в Jupyter:\n",
      "1 2 3 4\n"
     ]
    }
   ],
   "source": [
    "print('Решены в Jupyter:')\n",
    "print(*solved)"
   ]
  },
  {
   "cell_type": "code",
   "execution_count": 137,
   "metadata": {},
   "outputs": [
    {
     "name": "stdout",
     "output_type": "stream",
     "text": [
      "5 6 7 8 9 10 11 12 13 14 15 16 17 18 19 20 21 22 23 24 25 26 27 28 29 30 31 32 33 34 35 36 37 38 39 40 41 42 43 44 45 46 47 48 49 50 51 52 53 54 55 56 57 58 59 60 61 62 63 64 65 66 67 68 69 70 71 72 73 74 75 76 77 78 79 80 81 82 83 84 85 86 87 88 89 90 91 92 93 94 95 96 97 98 99 100 101 102 103 104 105 106 107 108 109 110 111 112 113 114 115 116 117 118 119 120 121 122\n"
     ]
    }
   ],
   "source": [
    "print(*[i for i in all_problems if i not in solved])"
   ]
  },
  {
   "cell_type": "code",
   "execution_count": 124,
   "metadata": {},
   "outputs": [
    {
     "data": {
      "text/plain": [
       "' ̶3̶8̶3'"
      ]
     },
     "execution_count": 124,
     "metadata": {},
     "output_type": "execute_result"
    }
   ],
   "source": [
    "'\\u0336'.join(' 383')"
   ]
  },
  {
   "cell_type": "markdown",
   "metadata": {},
   "source": [
    "# Глава 1. Определители\n",
    "## §1. Определители 2-го и 3-го порядков"
   ]
  },
  {
   "cell_type": "code",
   "execution_count": 146,
   "metadata": {},
   "outputs": [
    {
     "name": "stdout",
     "output_type": "stream",
     "text": [
      " ̶1  ̶2  ̶3  ̶4 5 6 7 8 9 10 11 12 13 14 15 16 17 18 19 20 21  ̶2̶2  ̶2̶3  ̶2̶4  ̶2̶5 26 27  ̶2̶8  ̶2̶9 30 31 32 33 34 35 36 37 38 39 40 41 42  ̶4̶3  ̶4̶4  ̶4̶5  ̶4̶6  ̶4̶7  ̶4̶8  ̶4̶9  ̶5̶0  ̶5̶1  ̶5̶2  ̶5̶3  ̶5̶4  ̶5̶5 56 57 58 59 60 61 62 63 64 65 66 67 68 69 70 71 72 73 74 75 76 77 78 79 80 81 82 83 84 85 86 87 88 89 90 91 92 93 94 95 96 97 98 99 100 101 102 103 104 105 106 107 108 109 110 111 112 113 114 115 116 117 118 119 120 121 122\n",
      "\n",
      "Решены в Jupyter:\n",
      "1 2 3 4 22 23 24 25 28 29 43 44 45 46 47 48 49 50 51 52 53 54 55\n",
      "\n",
      "Решены в тетради:\n",
      "\n",
      "\n",
      "Осталось решить:\n",
      "5 6 7 8 9 10 11 12 13 14 15 16 17 18 19 20 21 26 27 30 31 32 33 34 35 36 37 38 39 40 41 42 56 57 58 59 60 61 62 63 64 65 66 67 68 69 70 71 72 73 74 75 76 77 78 79 80 81 82 83 84 85 86 87 88 89 90 91 92 93 94 95 96 97 98 99 100 101 102 103 104 105 106 107 108 109 110 111 112 113 114 115 116 117 118 119 120 121 122\n"
     ]
    }
   ],
   "source": [
    "solved_Jupyter = [1, 2, 3, 4, 22, 23, 24, 25, 28, 29, 43, 44, 45, 46, 47, 48, 49, 50, 51, 52, 53, 54, 55]\n",
    "solved_by_hand = []\n",
    "\n",
    "problems_num = [i for i in range(1, 123)]\n",
    "solved = solved_Jupyter + solved_by_hand\n",
    "problems_marked = ['\\u0336'.join(' ' + str(i)) if i in solved else str(i) for i in all_problems]\n",
    "print(*problems_marked)\n",
    "print('\\nРешены в Jupyter:')\n",
    "print(*solved_Jupyter)\n",
    "print('\\nРешены в тетради:')\n",
    "print(*solved_by_hand)\n",
    "print('\\nОсталось решить:')\n",
    "print(*[i for i in all_problems if i not in solved])"
   ]
  },
  {
   "cell_type": "code",
   "execution_count": 9,
   "metadata": {},
   "outputs": [
    {
     "name": "stdout",
     "output_type": "stream",
     "text": [
      "Сегодня 2021-06-08\n"
     ]
    }
   ],
   "source": [
    "print(f'Сегодня {date.today().isoformat()}')"
   ]
  },
  {
   "cell_type": "markdown",
   "metadata": {},
   "source": [
    "Вычислить определители:"
   ]
  },
  {
   "cell_type": "code",
   "execution_count": 60,
   "metadata": {},
   "outputs": [],
   "source": [
    "problems = {\n",
    "    1: [\n",
    "        [5, 2],\n",
    "        [7, 3]\n",
    "    ],\n",
    "    2: [\n",
    "        [1, 2],\n",
    "        [3, 4]\n",
    "    ],\n",
    "    3: [\n",
    "        [3, 2],\n",
    "        [8, 5]\n",
    "    ],\n",
    "    4: [\n",
    "        [6, 9],\n",
    "        [8, 12]\n",
    "    ]\n",
    "}"
   ]
  },
  {
   "cell_type": "code",
   "execution_count": 100,
   "metadata": {},
   "outputs": [],
   "source": [
    "def det(m):\n",
    "    \"\"\"Считает определитель матрицы с целыми \n",
    "    элементами\"\"\"\n",
    "    m = np.array(m)\n",
    "    return round(np.linalg.det(m))"
   ]
  },
  {
   "cell_type": "code",
   "execution_count": 104,
   "metadata": {},
   "outputs": [],
   "source": [
    "def print_answer1_4(N, m):\n",
    "    \"\"\"Выводит ответ на задания 1 - 4\"\"\"\n",
    "    print(f'{N}. Ответ: {int(det(m))}')"
   ]
  },
  {
   "cell_type": "code",
   "execution_count": 64,
   "metadata": {},
   "outputs": [
    {
     "name": "stdout",
     "output_type": "stream",
     "text": [
      "1. Ответ: 1\n",
      "2. Ответ: -2\n",
      "3. Ответ: -1\n",
      "4. Ответ: 0\n"
     ]
    }
   ],
   "source": [
    "for N, m in problems.items():\n",
    "    print_answer1_4(N, m)"
   ]
  },
  {
   "cell_type": "markdown",
   "metadata": {},
   "source": [
    "Задания 5 - 21 в решаются в символьном виде."
   ]
  },
  {
   "cell_type": "markdown",
   "metadata": {},
   "source": [
    "Пользуясь определителями, решить системы уравнений:"
   ]
  },
  {
   "cell_type": "code",
   "execution_count": 73,
   "metadata": {},
   "outputs": [],
   "source": [
    "problems = {\n",
    "    22: ([\n",
    "        [2, 5],\n",
    "        [3, 7]\n",
    "    ], [1, 2]),\n",
    "    23: ([\n",
    "        [2, -3],\n",
    "        [4, -5]\n",
    "    ], [4, 10]),\n",
    "    24: ([\n",
    "        [5, 7],\n",
    "        [1, 2]\n",
    "    ], [1, 0]),\n",
    "    25: ([\n",
    "        [4, 7],\n",
    "        [5, 8]\n",
    "    ], [-13, -14])\n",
    "}"
   ]
  },
  {
   "cell_type": "code",
   "execution_count": 75,
   "metadata": {},
   "outputs": [],
   "source": [
    "def det_solve(m, b):\n",
    "    \"\"\"Решение системы c 2 неизвестными по методу Крамера\"\"\"\n",
    "    m = np.array(m)\n",
    "    det_1 = det(np.column_stack([b, m[:, 1]]))\n",
    "    det_2 = det(np.column_stack([m[:, 0], b]))\n",
    "        \n",
    "    return (det_1 / det(m), det_2 / det(m))"
   ]
  },
  {
   "cell_type": "code",
   "execution_count": 105,
   "metadata": {},
   "outputs": [],
   "source": [
    "def print_answer22_25(N, m, b):\n",
    "    \"\"\"Выводит ответ на задания 22 - 25\"\"\"\n",
    "    print(f'{N}. Ответ: {det_solve(m, b)}')"
   ]
  },
  {
   "cell_type": "code",
   "execution_count": 76,
   "metadata": {},
   "outputs": [
    {
     "name": "stdout",
     "output_type": "stream",
     "text": [
      "22. Ответ: (3.0, -1.0)\n",
      "23. Ответ: (5.0, 2.0)\n",
      "24. Ответ: (0.6666666666666666, -0.3333333333333333)\n",
      "25. Ответ: (2.0, -3.0)\n"
     ]
    }
   ],
   "source": [
    "for N, (m, b) in problems.items():\n",
    "    print_answer22_25(N, m, b)"
   ]
  },
  {
   "cell_type": "markdown",
   "metadata": {},
   "source": [
    "24 задача: опечатка либо в задаче, либо в ответе "
   ]
  },
  {
   "cell_type": "markdown",
   "metadata": {},
   "source": [
    "Задания 26 - 27 решаются в символьном виде"
   ]
  },
  {
   "cell_type": "markdown",
   "metadata": {},
   "source": [
    "Исследовать, будет ли система уравнений опреленна, неопределенна или противоречива:"
   ]
  },
  {
   "cell_type": "code",
   "execution_count": 77,
   "metadata": {},
   "outputs": [],
   "source": [
    "problems = {\n",
    "    28: ([\n",
    "        [4, 6],\n",
    "        [6, 9]\n",
    "    ], [2, 3])\n",
    "}"
   ]
  },
  {
   "cell_type": "code",
   "execution_count": 90,
   "metadata": {},
   "outputs": [
    {
     "name": "stdout",
     "output_type": "stream",
     "text": [
      "28. Определители D = -0.0, D1 = -0.0, D2 = -0.0\n",
      "Ответ: Все определители равны нулю, правило Крамера не подходит.\n",
      "Система неопределенна (имеет бесконечно много решений).\n"
     ]
    }
   ],
   "source": [
    "for N, (m, b) in problems.items():\n",
    "    D = det(m)\n",
    "    m = np.array(m)\n",
    "    det_1 = det(np.column_stack([b, m[:, 1]]))\n",
    "    det_2 = det(np.column_stack([m[:, 0], b]))\n",
    "    print(f'{N}. Определители D = {D}, D1 = {det_1}, D2 = {det_2}')\n",
    "    print('Ответ: Все определители равны нулю, правило Крамера не подходит.'\\\n",
    "          + '\\nСистема неопределенна (имеет бесконечно много решений).')"
   ]
  },
  {
   "cell_type": "code",
   "execution_count": 91,
   "metadata": {},
   "outputs": [],
   "source": [
    "problems = {\n",
    "    29: ([\n",
    "        [3, -2],\n",
    "        [6, -4]\n",
    "    ], [2, 3])\n",
    "}"
   ]
  },
  {
   "cell_type": "code",
   "execution_count": 95,
   "metadata": {},
   "outputs": [
    {
     "name": "stdout",
     "output_type": "stream",
     "text": [
      "29. Определители D = 0.0, D1 = -2.0, D2 = -3.0\n",
      "Ответ: определитель системы равен нулю, а другие определители нулю не равны.\n",
      "Система противоречива (не имеет решений).\n"
     ]
    }
   ],
   "source": [
    "for N, (m, b) in problems.items():\n",
    "    D = det(m)\n",
    "    m = np.array(m)\n",
    "    det_1 = det(np.column_stack([b, m[:, 1]]))\n",
    "    det_2 = det(np.column_stack([m[:, 0], b]))\n",
    "    print(f'{N}. Определители D = {D}, D1 = {det_1}, D2 = {det_2}')\n",
    "    print('Ответ: определитель системы равен нулю, а другие определители нулю не равны.'\\\n",
    "          + '\\nСистема противоречива (не имеет решений).')"
   ]
  },
  {
   "cell_type": "markdown",
   "metadata": {},
   "source": [
    "Задания 29 - 37 решаются в символьном виде. Задания 38 - 42 на доказательства. "
   ]
  },
  {
   "cell_type": "markdown",
   "metadata": {},
   "source": [
    "Вычислить определители 3-го порядка:"
   ]
  },
  {
   "cell_type": "code",
   "execution_count": 106,
   "metadata": {},
   "outputs": [],
   "source": [
    "problems = {\n",
    "    43: [\n",
    "        [2, 1, 3],\n",
    "        [5, 3, 2],\n",
    "        [1, 4, 3]\n",
    "    ],\n",
    "    44: [\n",
    "        [3, 2, 1],\n",
    "        [2, 5, 3],\n",
    "        [3, 4, 2]\n",
    "    ],\n",
    "    45: [\n",
    "        [4, -3, 5],\n",
    "        [3, -2, 8],\n",
    "        [1, -7, -5]\n",
    "    ],\n",
    "    46: [\n",
    "        [3, 2, -4],\n",
    "        [4, 1, -2],\n",
    "        [5, 2, -3]\n",
    "    ],\n",
    "    47: [\n",
    "        [3, 4, -5],\n",
    "        [8, 7, -2],\n",
    "        [2, -1, 8]\n",
    "    ],\n",
    "    48: [\n",
    "        [4, 2, -1],\n",
    "        [5, 3, -2],\n",
    "        [3, 2, -1]\n",
    "    ],\n",
    "    49: [\n",
    "        [1, 1, 1],\n",
    "        [1, 2, 3],\n",
    "        [1, 3, 6]\n",
    "    ],\n",
    "    50: [\n",
    "        [0, 1, 1],\n",
    "        [1, 0, 1],\n",
    "        [1, 1, 0]\n",
    "    ],\n",
    "    51: [\n",
    "        [5, 6, 3],\n",
    "        [0, 1, 0],\n",
    "        [7, 4, 5]\n",
    "    ],\n",
    "    52: [\n",
    "        [2, 0, 3],\n",
    "        [7, 1, 6],\n",
    "        [6, 0, 5]\n",
    "    ],\n",
    "    53: [\n",
    "        [1, 5, 25],\n",
    "        [1, 7, 49],\n",
    "        [1, 8, 64]\n",
    "    ],\n",
    "    54: [\n",
    "        [1, 1, 1],\n",
    "        [4, 5, 9],\n",
    "        [16, 25, 81]\n",
    "    ],\n",
    "    55: [\n",
    "        [1, 2, 3],\n",
    "        [4, 5, 6],\n",
    "        [7, 8, 9]\n",
    "    ]\n",
    "}"
   ]
  },
  {
   "cell_type": "code",
   "execution_count": 109,
   "metadata": {},
   "outputs": [],
   "source": [
    "def print_answer43_55(N, m):\n",
    "    \"\"\"Выводит ответ на задания 43 - 55\"\"\"\n",
    "    print(f'{N}. Ответ: {int(det(m))}.')"
   ]
  },
  {
   "cell_type": "code",
   "execution_count": 110,
   "metadata": {},
   "outputs": [
    {
     "name": "stdout",
     "output_type": "stream",
     "text": [
      "43. Ответ: 40.\n",
      "44. Ответ: -3.\n",
      "45. Ответ: 100.\n",
      "46. Ответ: -5.\n",
      "47. Ответ: 0.\n",
      "48. Ответ: 1.\n",
      "49. Ответ: 1.\n",
      "50. Ответ: 2.\n",
      "51. Ответ: 4.\n",
      "52. Ответ: -8.\n",
      "53. Ответ: 6.\n",
      "54. Ответ: 20.\n",
      "55. Ответ: 0.\n"
     ]
    }
   ],
   "source": [
    "for N, m in problems.items():\n",
    "    print_answer43_55(N, m)"
   ]
  },
  {
   "cell_type": "markdown",
   "metadata": {},
   "source": [
    "Задания 56 - 73 решаются в символьном виде."
   ]
  },
  {
   "cell_type": "markdown",
   "metadata": {},
   "source": [
    "Пользуясь определителями, решить системы уравнений: 74 - 77"
   ]
  },
  {
   "cell_type": "code",
   "execution_count": null,
   "metadata": {},
   "outputs": [],
   "source": []
  },
  {
   "cell_type": "markdown",
   "metadata": {},
   "source": [
    "Задания 78 - 81 решаются в символьном виде. "
   ]
  },
  {
   "cell_type": "code",
   "execution_count": null,
   "metadata": {},
   "outputs": [],
   "source": []
  },
  {
   "cell_type": "markdown",
   "metadata": {},
   "source": [
    "Исследовать, будет ли система уравнений опреленна, неопределенна или противоречива: 82 - 85"
   ]
  },
  {
   "cell_type": "code",
   "execution_count": null,
   "metadata": {},
   "outputs": [],
   "source": []
  },
  {
   "cell_type": "code",
   "execution_count": null,
   "metadata": {},
   "outputs": [],
   "source": []
  },
  {
   "cell_type": "markdown",
   "metadata": {},
   "source": [
    "Задания 90 - 122 решаются в символьном виде. "
   ]
  },
  {
   "cell_type": "markdown",
   "metadata": {},
   "source": [
    "## §4. Вычисление определителей с числовыми элементами"
   ]
  },
  {
   "cell_type": "code",
   "execution_count": 147,
   "metadata": {},
   "outputs": [
    {
     "name": "stdout",
     "output_type": "stream",
     "text": [
      "1 2 3 4 5 6 7 8 9 10 11 12 13 14 15 16 17 18 19 20 21 22 23 24 25 26 27 28 29 30 31 32 33 34 35 36 37 38 39 40 41 42 43 44 45 46 47 48 49 50 51 52 53 54 55 56 57 58 59 60 61 62 63 64 65 66 67 68 69 70 71 72 73 74 75 76 77 78 79 80 81 82 83 84 85 86 87 88 89 90 91 92 93 94 95 96 97 98 99 100 101 102 103 104 105 106 107 108 109 110 111 112 113 114 115 116 117 118 119 120 121 122\n",
      "\n",
      "Решены в Jupyter:\n",
      "\n",
      "\n",
      "Решены в тетради:\n",
      "\n",
      "\n",
      "Осталось решить:\n",
      "1 2 3 4 5 6 7 8 9 10 11 12 13 14 15 16 17 18 19 20 21 22 23 24 25 26 27 28 29 30 31 32 33 34 35 36 37 38 39 40 41 42 43 44 45 46 47 48 49 50 51 52 53 54 55 56 57 58 59 60 61 62 63 64 65 66 67 68 69 70 71 72 73 74 75 76 77 78 79 80 81 82 83 84 85 86 87 88 89 90 91 92 93 94 95 96 97 98 99 100 101 102 103 104 105 106 107 108 109 110 111 112 113 114 115 116 117 118 119 120 121 122\n"
     ]
    }
   ],
   "source": [
    "solved_Jupyter = []\n",
    "solved_by_hand = []\n",
    "\n",
    "problems_num = [i for i in range(257, 279)]\n",
    "solved = solved_Jupyter + solved_by_hand\n",
    "problems_marked = ['\\u0336'.join(' ' + str(i)) if i in solved else str(i) for i in all_problems]\n",
    "print(*problems_marked)\n",
    "print('\\nРешены в Jupyter:')\n",
    "print(*solved_Jupyter)\n",
    "print('\\nРешены в тетради:')\n",
    "print(*solved_by_hand)\n",
    "print('\\nОсталось решить:')\n",
    "print(*[i for i in all_problems if i not in solved])"
   ]
  },
  {
   "cell_type": "markdown",
   "metadata": {},
   "source": [
    "Вычислить определители: 257 - 278"
   ]
  },
  {
   "cell_type": "code",
   "execution_count": null,
   "metadata": {},
   "outputs": [],
   "source": []
  }
 ],
 "metadata": {
  "kernelspec": {
   "display_name": "Python 3",
   "language": "python",
   "name": "python3"
  },
  "language_info": {
   "codemirror_mode": {
    "name": "ipython",
    "version": 3
   },
   "file_extension": ".py",
   "mimetype": "text/x-python",
   "name": "python",
   "nbconvert_exporter": "python",
   "pygments_lexer": "ipython3",
   "version": "3.7.4"
  }
 },
 "nbformat": 4,
 "nbformat_minor": 2
}
