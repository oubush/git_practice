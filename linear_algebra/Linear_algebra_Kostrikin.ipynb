{
 "cells": [
  {
   "cell_type": "markdown",
   "metadata": {},
   "source": [
    "Сборник задач по алгебре под редакцией А. И. Кострикина. М.: МЦНМО, 2021."
   ]
  },
  {
   "cell_type": "markdown",
   "metadata": {},
   "source": [
    "# Глава 2. Арифметические пространства и линейные уравнения\n",
    "## §6. Арифметические пространства"
   ]
  },
  {
   "cell_type": "markdown",
   "metadata": {},
   "source": [
    "**6.1.** Найти линейную комбинацию \\\\( 3a_1 + 5a_2 - a_3 \\\\) "
   ]
  },
  {
   "cell_type": "code",
   "execution_count": 11,
   "metadata": {},
   "outputs": [
    {
     "name": "stdout",
     "output_type": "stream",
     "text": [
      "Ответ: (1, 4, -7, 7)\n"
     ]
    }
   ],
   "source": [
    "a1 = np.array([4,1,3,-2])\n",
    "a2 = np.array([1,2,-3,2])\n",
    "a3 = np.array([16,9,1,-3])\n",
    "print('Ответ:', tuple(3*a1+5*a2-a3))"
   ]
  },
  {
   "cell_type": "markdown",
   "metadata": {},
   "source": [
    "**6.2.** Найти вектор x из уравнений:  \n",
    "а) \\\\( a_1 + 2a_2 + 3a_3 + 4x = 0 \\\\)  \n",
    "\n",
    "Решение: $$ 4x = -(a_1 + 2a_2 + 3a_3) $$  $$ x = -(a_1 + 2a_2 + 3a_3) / 4 $$"
   ]
  },
  {
   "cell_type": "code",
   "execution_count": 17,
   "metadata": {},
   "outputs": [
    {
     "name": "stdout",
     "output_type": "stream",
     "text": [
      "Ответ: (0, 1, 2, -2)\n"
     ]
    }
   ],
   "source": [
    "a1 = np.array((5, -8, -1, 2))\n",
    "a2 = np.array((2, -1, 4, -3))\n",
    "a3 = np.array((-3, 2, -5, 4))\n",
    "print('Ответ:', tuple(((0 - (a1 + 2 * a2 + 3 * a3)) / 4).astype(int)))"
   ]
  },
  {
   "cell_type": "markdown",
   "metadata": {},
   "source": [
    "б) \\\\( 3(a_1 - x) + 2(a_2 + x) = 5(a_3 + x) \\\\)  \n",
    "Решение: $$ 3a_1 - 3x + 2a_2 + 2x = 5a_3 + 5x $$  $$ 6x = 3a_1 + 2a_2 - 5a_3 $$ $$ x = (3a_1 + 2a_2 - 5a_3) / 6 $$"
   ]
  },
  {
   "cell_type": "code",
   "execution_count": 16,
   "metadata": {},
   "outputs": [
    {
     "name": "stdout",
     "output_type": "stream",
     "text": [
      "Ответ: (1, 2, 3, 4)\n"
     ]
    }
   ],
   "source": [
    "a1 = np.array((2, 5, 1, 3))\n",
    "a2 = np.array((10, 1, 5, 10))\n",
    "a3 = np.array((4, 1, -1, 1))\n",
    "print('Ответ:', tuple(((3*a1 + 2 * a2 - 5 * a3) / 6).astype(int)))"
   ]
  },
  {
   "cell_type": "markdown",
   "metadata": {},
   "source": [
    "**6.3.** Выяснить, являются ли следующие системы векторов линейно независимыми:  \n",
    "а) \\\\( a_1 = (1,2,3), a_2 = (3,6,7) \\\\)  \n",
    "\n",
    "Решение: \n",
    "Если \\\\( a_1 \\\\) и \\\\( a_2 \\\\) линейно зависимы, то существует &#955;, такая, что  \\\\( a_1 = \\lambda a_2\\\\). Но 1 / 3 = 2 / 6 &ne; 3 / 7.  \n",
    "Ответ: Да, линейно независимы"
   ]
  },
  {
   "cell_type": "markdown",
   "metadata": {},
   "source": [
    "б) \\\\( a_1 = (4,-2,6), a_2 = (6,-3,9) \\\\)  \n",
    "\n",
    "Решение: \n",
    "Если \\\\( a_1 \\\\) и \\\\( a_2 \\\\) линейно зависимы, то существует &#955;, такая, что  \\\\( a_1 = \\lambda a_2\\\\).  \n",
    "\\\\( \\lambda = 4 / 6 = -2 / -3 = 6 / 9 = 2 / 3 \\\\)  \n",
    "Ответ:  Нет, векторы линейно зависимы"
   ]
  },
  {
   "cell_type": "markdown",
   "metadata": {},
   "source": [
    "в) \\\\( a_1 = (2, -3, 1), a_2 = (3, -1, 5) , a_3 = (1, -4, 3)\\\\) "
   ]
  },
  {
   "cell_type": "code",
   "execution_count": 22,
   "metadata": {},
   "outputs": [
    {
     "name": "stdout",
     "output_type": "stream",
     "text": [
      "Ответ: Да, линейно независимы\n"
     ]
    }
   ],
   "source": [
    "A = np.array([[2, -3, 1], \n",
    "              [3, -1, 5],\n",
    "              [1, -4, 3]]\n",
    "            )\n",
    "D = int(np.linalg.det(A))\n",
    "if D == 0: \n",
    "    print('Ответ: Нет, векторы линейно зависимы')\n",
    "else:\n",
    "    print('Ответ: Да, линейно независимы')"
   ]
  },
  {
   "cell_type": "markdown",
   "metadata": {},
   "source": [
    "г) \\\\( a_1 = (5, 4, 3), a_2 = (3, 3, 2) , a_3 = (8, 1, 3)\\\\) "
   ]
  },
  {
   "cell_type": "code",
   "execution_count": 23,
   "metadata": {},
   "outputs": [
    {
     "name": "stdout",
     "output_type": "stream",
     "text": [
      "Ответ: Нет, векторы линейно зависимы\n"
     ]
    }
   ],
   "source": [
    "A = np.array([[5, 4, 3], \n",
    "              [3, 3, 2],\n",
    "              [8, 1, 3]]\n",
    "            )\n",
    "D = int(np.linalg.det(A))\n",
    "if D == 0: \n",
    "    print('Ответ: Нет, векторы линейно зависимы')\n",
    "else:\n",
    "    print('Ответ: Да, линейно независимы')"
   ]
  },
  {
   "cell_type": "markdown",
   "metadata": {},
   "source": [
    "д) \\\\( a_1 = (4, -5, 2, 6), a_2 = (2, -2, 1, 3) , a_3 = (6, -3, 3, 9), a_4 = (4, -1, 5, 6)\\\\) "
   ]
  },
  {
   "cell_type": "code",
   "execution_count": 24,
   "metadata": {},
   "outputs": [
    {
     "name": "stdout",
     "output_type": "stream",
     "text": [
      "Ответ: Нет, векторы линейно зависимы\n"
     ]
    }
   ],
   "source": [
    "A = np.array([(4, -5, 2, 6), \n",
    "              (2, -2, 1, 3), \n",
    "              (6, -3, 3, 9), \n",
    "              (4, -1, 5, 6)]\n",
    "            )\n",
    "D = int(np.linalg.det(A))\n",
    "if D == 0: \n",
    "    print('Ответ: Нет, векторы линейно зависимы')\n",
    "else:\n",
    "    print('Ответ: Да, линейно независимы')"
   ]
  },
  {
   "cell_type": "markdown",
   "metadata": {},
   "source": [
    "е) \\\\( a_1 = (1, 0, 0, 2, 5), a_2 = (0, 1, 0, 3, 4) , a_3 = (0, 0, 1, 4, 7), a_4 = (2, -3, 4, 11, 12)\\\\)  \n",
    "\n",
    "Решение: Если векторы линейно зависимы, то существуют числа a, b, c, d, одновременно не равные нулю, такие, что $$ aa_1 + ba_2 + ca_3 + da_4 + a_5 = 0 $$  \n",
    "Тогда должна быть верна система равенств: $$ a + 0 + 0 + 2d = 0 $$ $$ 0 + b + 0 - 3d = 0 $$ $$ 0 + 0 + c + 4d = 0 $$ $$ 2a + 3b + 4c + 11d = 0 $$ $$ 5a + 4b + 7c + 12d = 0 $$  \n",
    "Из первых трех равенств a, b и c выражаются через d: $$ a = -2d $$ $$ b = 3d $$ $$ c = -4d $$  \n",
    "Четвертое равенство принимает вид: \\\\( -4d + 9d - 16d + 11d = 5d - 5d = 0 \\equiv 0 \\\\)  \n",
    "Пятое равенство принимает вид:  $$ -10d + 12d - 21d + 12d = 0 $$ $$ -7d = 0 $$ $$ d = 0 $$\n",
    "Следовательно, все коэффициенты a = b = c = d = 0. Значит, векторы линейно независимы.  \n",
    "Ответ: Да, линейно независимы."
   ]
  },
  {
   "cell_type": "markdown",
   "metadata": {},
   "source": [
    "## §7. Ранг матрицы"
   ]
  },
  {
   "cell_type": "code",
   "execution_count": 18,
   "metadata": {},
   "outputs": [],
   "source": [
    "import numpy as np"
   ]
  },
  {
   "cell_type": "markdown",
   "metadata": {},
   "source": [
    "7.1 Найти ранг следующих матриц  \n",
    "а)"
   ]
  },
  {
   "cell_type": "code",
   "execution_count": 4,
   "metadata": {},
   "outputs": [
    {
     "name": "stdout",
     "output_type": "stream",
     "text": [
      "Ответ: 2\n"
     ]
    }
   ],
   "source": [
    "A = np.array([[8, 2, 2, -1, 1],\n",
    "              [1, 7, 4, -2, 5],\n",
    "              [-2, 4, 2, -1, 3]\n",
    "             ])\n",
    "\n",
    "print('Ответ:', np.linalg.matrix_rank(A))"
   ]
  },
  {
   "cell_type": "markdown",
   "metadata": {},
   "source": [
    "б)"
   ]
  },
  {
   "cell_type": "code",
   "execution_count": 19,
   "metadata": {},
   "outputs": [
    {
     "name": "stdout",
     "output_type": "stream",
     "text": [
      "Ответ: 3\n"
     ]
    }
   ],
   "source": [
    "A = np.array([[1, 7, 7, 9],\n",
    "              [7, 5, 1, -1],\n",
    "              [4, 2, -1, -3],\n",
    "              [-1, 1, 3, 5]\n",
    "             ])\n",
    "\n",
    "print('Ответ:', np.linalg.matrix_rank(A))"
   ]
  },
  {
   "cell_type": "markdown",
   "metadata": {},
   "source": [
    "в)"
   ]
  },
  {
   "cell_type": "code",
   "execution_count": 20,
   "metadata": {},
   "outputs": [
    {
     "name": "stdout",
     "output_type": "stream",
     "text": [
      "Ответ: 3\n"
     ]
    }
   ],
   "source": [
    "A = np.array([[4, 1, 7, -5, 1],\n",
    "              [0, -7, 1, -3, -5],\n",
    "              [3, 4, 5, -3, 2],\n",
    "              [2, 5, 3, -1, 3]\n",
    "             ])\n",
    "\n",
    "print('Ответ:', np.linalg.matrix_rank(A))"
   ]
  },
  {
   "cell_type": "markdown",
   "metadata": {},
   "source": [
    "г)"
   ]
  },
  {
   "cell_type": "code",
   "execution_count": 21,
   "metadata": {},
   "outputs": [
    {
     "name": "stdout",
     "output_type": "stream",
     "text": [
      "Ответ: 3\n"
     ]
    }
   ],
   "source": [
    "A = np.array([[8, -4, 5, 5, 9],\n",
    "              [1, -3, -5, 0, -7],\n",
    "              [7, -5, 1, 4, 1],\n",
    "              [3, -1, 3, 2, 5]\n",
    "             ])\n",
    "\n",
    "print('Ответ:', np.linalg.matrix_rank(A))"
   ]
  },
  {
   "cell_type": "markdown",
   "metadata": {},
   "source": [
    "д)"
   ]
  },
  {
   "cell_type": "code",
   "execution_count": 24,
   "metadata": {},
   "outputs": [
    {
     "name": "stdout",
     "output_type": "stream",
     "text": [
      "Ответ: 3\n"
     ]
    }
   ],
   "source": [
    "A = np.array([[-6, 4, 8, -1, 6],\n",
    "              [-5, 2, 4, 1, 3],\n",
    "              [7, 2, 4, 1, 3],\n",
    "              [2, 4, 8, -7, 6],\n",
    "              [3, 2, 4, -5, 3]\n",
    "             ])\n",
    "\n",
    "print('Ответ:', np.linalg.matrix_rank(A))"
   ]
  },
  {
   "cell_type": "markdown",
   "metadata": {},
   "source": [
    "е)"
   ]
  },
  {
   "cell_type": "code",
   "execution_count": 25,
   "metadata": {},
   "outputs": [
    {
     "name": "stdout",
     "output_type": "stream",
     "text": [
      "Ответ: 4\n"
     ]
    }
   ],
   "source": [
    "A = np.array([[77, 32, 6, 5, 3],\n",
    "              [32, 14, 3, 2, 1],\n",
    "              [6, 3, 1, 0, 0],\n",
    "              [5, 2, 0, 1, 0],\n",
    "              [4, 1, 0, 0, 1]\n",
    "             ])\n",
    "\n",
    "print('Ответ:', np.linalg.matrix_rank(A))"
   ]
  },
  {
   "cell_type": "markdown",
   "metadata": {},
   "source": [
    "ж) в самом задачнике ответ неправильный ? = 5"
   ]
  },
  {
   "cell_type": "code",
   "execution_count": 29,
   "metadata": {},
   "outputs": [
    {
     "name": "stdout",
     "output_type": "stream",
     "text": [
      "Ответ: 4\n"
     ]
    }
   ],
   "source": [
    "A = np.array([[3, 1, 1, 2, -1],\n",
    "              [0, 2, -1, 1, 2],\n",
    "              [4, 3, 2, -1, 1],\n",
    "              [12, 9, 8, -7, 3],\n",
    "              [-12, -5, -8, 5, 1]\n",
    "             ])\n",
    "\n",
    "print('Ответ:', np.linalg.matrix_rank(A))"
   ]
  },
  {
   "cell_type": "markdown",
   "metadata": {},
   "source": [
    "## §8. Системы линейных уравнений"
   ]
  },
  {
   "cell_type": "code",
   "execution_count": 3,
   "metadata": {},
   "outputs": [],
   "source": [
    "import numpy as np"
   ]
  },
  {
   "cell_type": "markdown",
   "metadata": {},
   "source": [
    "**8.1.** Найти общее решение и одно частное решение системы линейных уравнений, используя метод Гаусса"
   ]
  },
  {
   "cell_type": "markdown",
   "metadata": {},
   "source": [
    "**a)** в самом задачнике ответ неправильный"
   ]
  },
  {
   "cell_type": "code",
   "execution_count": 60,
   "metadata": {},
   "outputs": [],
   "source": [
    "# Создадим матрицу, соответствующую системе уравнений\n",
    "# Тип float нужен для преобразований\n",
    "A = np.array([\n",
    "    [5, 3, 5, 12],\n",
    "    [2, 2, 3, 5],\n",
    "    [1, 7, 9, 4]\n",
    "], dtype=np.float64)\n",
    "\n",
    "b = np.array([10, 4, 2], dtype=np.float64)"
   ]
  },
  {
   "cell_type": "markdown",
   "metadata": {},
   "source": [
    "Решение: составим расширенную матрицу `A_ext`."
   ]
  },
  {
   "cell_type": "code",
   "execution_count": 61,
   "metadata": {},
   "outputs": [
    {
     "name": "stdout",
     "output_type": "stream",
     "text": [
      "[[ 5.  3.  5. 12. 10.]\n",
      " [ 2.  2.  3.  5.  4.]\n",
      " [ 1.  7.  9.  4.  2.]]\n"
     ]
    }
   ],
   "source": [
    "A_ext = np.column_stack([A, b])\n",
    "print(A_ext)"
   ]
  },
  {
   "cell_type": "markdown",
   "metadata": {},
   "source": [
    "Применим элементарные преобразования к строкам расширенной матрицы A_ext.  \n",
    "Поменяем местами первую и последнюю строки."
   ]
  },
  {
   "cell_type": "code",
   "execution_count": 62,
   "metadata": {},
   "outputs": [
    {
     "name": "stdout",
     "output_type": "stream",
     "text": [
      "[[ 1.  7.  9.  4.  2.]\n",
      " [ 2.  2.  3.  5.  4.]\n",
      " [ 5.  3.  5. 12. 10.]]\n"
     ]
    }
   ],
   "source": [
    "A_ext[0], A_ext[2] = A_ext[2].copy(), A_ext[0].copy()\n",
    "print(A_ext)"
   ]
  },
  {
   "cell_type": "markdown",
   "metadata": {},
   "source": [
    "Теперь применим элементарные преобразования 2 типа (умножение строки на число и прибавление к другой строке)"
   ]
  },
  {
   "cell_type": "code",
   "execution_count": 63,
   "metadata": {},
   "outputs": [
    {
     "name": "stdout",
     "output_type": "stream",
     "text": [
      "[[  1.   7.   9.   4.   2.]\n",
      " [  0. -12. -15.  -3.   0.]\n",
      " [  0. -32. -40.  -8.   0.]]\n"
     ]
    }
   ],
   "source": [
    "A_ext[1] = (A_ext[0] / A_ext[0][0]) * (- A_ext[1][0]) + A_ext[1]\n",
    "A_ext[2] = (A_ext[0] / A_ext[0][0]) * (- A_ext[2][0]) + A_ext[2]\n",
    "print(A_ext)"
   ]
  },
  {
   "cell_type": "code",
   "execution_count": 64,
   "metadata": {},
   "outputs": [
    {
     "name": "stdout",
     "output_type": "stream",
     "text": [
      "[[  1.   7.   9.   4.   2.]\n",
      " [  0. -12. -15.  -3.   0.]\n",
      " [  0.   0.   0.   0.   0.]]\n"
     ]
    }
   ],
   "source": [
    "A_ext[2] = (A_ext[1] / A_ext[1][1]) * (- A_ext[2][1]) + A_ext[2]\n",
    "print(A_ext)"
   ]
  },
  {
   "cell_type": "markdown",
   "metadata": {},
   "source": [
    "В системе 4 неизвестных и только 2 главных неизвестных, 2 свободных неизвестных (обозначим \\\\( x_3 \\\\) и \\\\( x_4 \\\\)).\n",
    "Найдем остальные члены: $$ 4x_2 + 5x_3 + x_4 = 0 $$ $$ x_2 = (- 5x_3 - x_4) / 4 $$ $$ x_1 + 7x_2 + 9x_3 + 4x_4 = 2 $$ $$ x_1 = (8 - x_3 - 9x_4) / 4 $$\n",
    "\n",
    "Общее решение: \\\\( x_2 = (- 5x_3 - x_4) / 4 ; x_1 = (8 - x_3 - 9x_4) / 4 \\\\)  \n",
    "Частные решения:"
   ]
  },
  {
   "cell_type": "code",
   "execution_count": 73,
   "metadata": {},
   "outputs": [
    {
     "name": "stdout",
     "output_type": "stream",
     "text": [
      "(2.0, 0.0, 0, 0)\n"
     ]
    }
   ],
   "source": [
    "x3 = 0\n",
    "x4 = 0\n",
    "x1 = (8 - x3 - 9*x4) / 4\n",
    "x2 = (-5*x3 - x4) / 4\n",
    "print((x1, x2, x3, x4))"
   ]
  },
  {
   "cell_type": "markdown",
   "metadata": {},
   "source": [
    "Проверка:"
   ]
  },
  {
   "cell_type": "code",
   "execution_count": 74,
   "metadata": {},
   "outputs": [
    {
     "data": {
      "text/plain": [
       "True"
      ]
     },
     "execution_count": 74,
     "metadata": {},
     "output_type": "execute_result"
    }
   ],
   "source": [
    "all(A @ np.array([x1, x2, x3, x4]) == b)"
   ]
  },
  {
   "cell_type": "code",
   "execution_count": 79,
   "metadata": {},
   "outputs": [
    {
     "name": "stdout",
     "output_type": "stream",
     "text": [
      "(0.0, 1.0, -1, 1)\n"
     ]
    }
   ],
   "source": [
    "x3 = -1\n",
    "x4 = 1\n",
    "x1 = (8 - x3 - 9*x4) / 4\n",
    "x2 = (-5*x3 - x4) / 4\n",
    "print((x1, x2, x3, x4))"
   ]
  },
  {
   "cell_type": "markdown",
   "metadata": {},
   "source": [
    "Проверка:"
   ]
  },
  {
   "cell_type": "code",
   "execution_count": 80,
   "metadata": {},
   "outputs": [
    {
     "data": {
      "text/plain": [
       "True"
      ]
     },
     "execution_count": 80,
     "metadata": {},
     "output_type": "execute_result"
    }
   ],
   "source": [
    "all(A @ np.array([x1, x2, x3, x4]) == b)"
   ]
  },
  {
   "cell_type": "markdown",
   "metadata": {},
   "source": [
    "**б)**"
   ]
  },
  {
   "cell_type": "code",
   "execution_count": 81,
   "metadata": {},
   "outputs": [],
   "source": [
    "# Создадим матрицу, соответствующую системе уравнений\n",
    "# Тип float нужен для преобразований\n",
    "A = np.array([\n",
    "    [-9, 6, 7, 10],\n",
    "    [-6, 4, 2, 3],\n",
    "    [-3, 2, -11, -15]\n",
    "], dtype=np.float64)\n",
    "\n",
    "b = np.array([3, 2, 1], dtype=np.float64)"
   ]
  },
  {
   "cell_type": "markdown",
   "metadata": {},
   "source": [
    "Решение: составим расширенную матрицу `A_ext`."
   ]
  },
  {
   "cell_type": "code",
   "execution_count": 86,
   "metadata": {},
   "outputs": [
    {
     "name": "stdout",
     "output_type": "stream",
     "text": [
      "[[ -9.   6.   7.  10.   3.]\n",
      " [ -6.   4.   2.   3.   2.]\n",
      " [ -3.   2. -11. -15.   1.]]\n"
     ]
    }
   ],
   "source": [
    "A_ext = np.column_stack([A, b])\n",
    "print(A_ext)"
   ]
  },
  {
   "cell_type": "markdown",
   "metadata": {},
   "source": [
    "Применим элементарные преобразования к строкам расширенной матрицы A_ext.  \n",
    "Поменяем местами первую и последнюю строки."
   ]
  },
  {
   "cell_type": "code",
   "execution_count": 87,
   "metadata": {},
   "outputs": [
    {
     "name": "stdout",
     "output_type": "stream",
     "text": [
      "[[ -3.   2. -11. -15.   1.]\n",
      " [ -6.   4.   2.   3.   2.]\n",
      " [ -9.   6.   7.  10.   3.]]\n"
     ]
    }
   ],
   "source": [
    "A_ext[0], A_ext[2] = A_ext[2].copy(), A_ext[0].copy()\n",
    "print(A_ext)"
   ]
  },
  {
   "cell_type": "markdown",
   "metadata": {},
   "source": [
    "Теперь применим элементарные преобразования 2 типа (умножение строки на число и прибавление к другой строке)"
   ]
  },
  {
   "cell_type": "code",
   "execution_count": 88,
   "metadata": {},
   "outputs": [
    {
     "name": "stdout",
     "output_type": "stream",
     "text": [
      "[[ -3.   2. -11. -15.   1.]\n",
      " [  0.   0.  24.  33.   0.]\n",
      " [  0.   0.  40.  55.   0.]]\n"
     ]
    }
   ],
   "source": [
    "A_ext[1] = (A_ext[0] / A_ext[0][0]) * (- A_ext[1][0]) + A_ext[1]\n",
    "A_ext[2] = (A_ext[0] / A_ext[0][0]) * (- A_ext[2][0]) + A_ext[2]\n",
    "print(A_ext)"
   ]
  },
  {
   "cell_type": "code",
   "execution_count": 90,
   "metadata": {},
   "outputs": [
    {
     "name": "stdout",
     "output_type": "stream",
     "text": [
      "[[ -3.   2. -11. -15.   1.]\n",
      " [  0.   0.  24.  33.   0.]\n",
      " [  0.   0.   0.   0.   0.]]\n"
     ]
    }
   ],
   "source": [
    "# Во торой строке второй элемент тоже равен нулю, берем третий\n",
    "A_ext[2] = (A_ext[1] / A_ext[1][2]) * (- A_ext[2][2]) + A_ext[2]\n",
    "print(A_ext)"
   ]
  },
  {
   "cell_type": "markdown",
   "metadata": {},
   "source": [
    "В системе 4 неизвестных и только 2 главных неизвестных, 2 свободных неизвестных (обозначим \\\\( x_2 \\\\) и \\\\( x_4 \\\\)).\n",
    "\n",
    "Общее решение: \\\\( x_3 = \\frac{-11x_4}{8} ; x_1 = \\frac{2x_2 - 1 + \\frac{x_4}{8}}{3} \\\\)  \n",
    "Частные решения:"
   ]
  },
  {
   "cell_type": "code",
   "execution_count": 99,
   "metadata": {},
   "outputs": [
    {
     "name": "stdout",
     "output_type": "stream",
     "text": [
      "(4.0, 6, -11.0, 8)\n"
     ]
    }
   ],
   "source": [
    "x2 = 6\n",
    "x4 = 8\n",
    "x1 = (2*x2 - 1 + x4/8) / 3\n",
    "x3 = -11 * x4 / 8\n",
    "print((x1, x2, x3, x4))"
   ]
  },
  {
   "cell_type": "markdown",
   "metadata": {},
   "source": [
    "Проверка:"
   ]
  },
  {
   "cell_type": "code",
   "execution_count": 100,
   "metadata": {},
   "outputs": [
    {
     "data": {
      "text/plain": [
       "True"
      ]
     },
     "execution_count": 100,
     "metadata": {},
     "output_type": "execute_result"
    }
   ],
   "source": [
    "all(A @ np.array([x1, x2, x3, x4]) == b)"
   ]
  },
  {
   "cell_type": "code",
   "execution_count": 101,
   "metadata": {},
   "outputs": [
    {
     "name": "stdout",
     "output_type": "stream",
     "text": [
      "(-0.3333333333333333, 0, 0.0, 0)\n"
     ]
    }
   ],
   "source": [
    "x2 = 0\n",
    "x4 = 0\n",
    "x1 = (2*x2 - 1 + x4/8) / 3\n",
    "x3 = -11 * x4 / 8\n",
    "print((x1, x2, x3, x4))"
   ]
  },
  {
   "cell_type": "markdown",
   "metadata": {},
   "source": [
    "Проверка:"
   ]
  },
  {
   "cell_type": "code",
   "execution_count": 102,
   "metadata": {},
   "outputs": [
    {
     "data": {
      "text/plain": [
       "True"
      ]
     },
     "execution_count": 102,
     "metadata": {},
     "output_type": "execute_result"
    }
   ],
   "source": [
    "all(A @ np.array([x1, x2, x3, x4]) == b)"
   ]
  }
 ],
 "metadata": {
  "kernelspec": {
   "display_name": "Python 3",
   "language": "python",
   "name": "python3"
  },
  "language_info": {
   "codemirror_mode": {
    "name": "ipython",
    "version": 3
   },
   "file_extension": ".py",
   "mimetype": "text/x-python",
   "name": "python",
   "nbconvert_exporter": "python",
   "pygments_lexer": "ipython3",
   "version": "3.7.4"
  }
 },
 "nbformat": 4,
 "nbformat_minor": 2
}
